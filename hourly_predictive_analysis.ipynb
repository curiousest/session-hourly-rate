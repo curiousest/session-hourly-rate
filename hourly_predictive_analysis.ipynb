{
 "cells": [
  {
   "cell_type": "code",
   "execution_count": 1,
   "metadata": {},
   "outputs": [],
   "source": [
    "import pandas as pd\n",
    "import numpy as np\n",
    "from IPython.display import display\n",
    "from os import listdir\n",
    "sessions_df = pd.read_csv(\"data_toolkit/data/sessions.csv\")\n",
    "practices_df = pd.read_csv(\"data_toolkit/data/practices.csv\")\n",
    "ccgs_df = pd.read_csv(\"data_toolkit/data/ccgs.csv\")"
   ]
  },
  {
   "cell_type": "code",
   "execution_count": 2,
   "metadata": {},
   "outputs": [
    {
     "data": {
      "text/plain": [
       "id                      128618\npractice_id             128618\nposted_datetime         128618\nstart_datetime          128618\nend_datetime            128618\nhourly_rate             128618\noriginal_hourly_rate     87316\nstatus                  128618\nlocum_id                 47732\ndtype: int64"
      ]
     },
     "execution_count": 2,
     "metadata": {},
     "output_type": "execute_result"
    }
   ],
   "source": [
    "sessions_df.count()"
   ]
  },
  {
   "cell_type": "code",
   "execution_count": 3,
   "metadata": {},
   "outputs": [],
   "source": [
    "import datetime\n",
    "\n",
    "length_seconds = lambda row: (row['end_datetime'] - row['start_datetime']).total_seconds()\n",
    "one_hour = 60 * 60\n",
    "is_short = lambda row: row['length_seconds'] <= 2 * one_hour\n",
    "is_medium = lambda row: 2 * one_hour < row['length_seconds'] <= 4 * one_hour\n",
    "is_long = lambda row: 4 * one_hour < row['length_seconds']\n",
    "\n",
    "\n",
    "# These methods may exclude sessions that are very very long, but those\n",
    "# appear to be outliers. Keeping it simple. \n",
    "def at_night(row): \n",
    "    return row['start_datetime'].time() >= datetime.time(18) or \\\n",
    "           row['end_datetime'].time() <= datetime.time(8)\n",
    "   \n",
    "   \n",
    "def at_morning(row):\n",
    "    start_in_morning = datetime.time(11) >= row['start_datetime'].time() >= datetime.time(6)\n",
    "    end_in_morning = datetime.time(8) >= row['end_datetime'].time() >= datetime.time(12)\n",
    "    if start_in_morning or end_in_morning:\n",
    "        return True\n",
    "    else:\n",
    "        return False\n",
    "    \n",
    "\n",
    "def at_afternoon(row):\n",
    "    start_in_aft = datetime.time(16) >= row['start_datetime'].time() > datetime.time(12)\n",
    "    end_in_aft = datetime.time(20) >= row['end_datetime'].time() >= datetime.time(15)\n",
    "    if start_in_aft or end_in_aft:\n",
    "        return True\n",
    "    else:\n",
    "        return False\n",
    "    \n",
    "def is_on_day_of_week_partial(day_of_week):\n",
    "    def is_on_day_of_week(row):\n",
    "        if row['start_datetime'].weekday() == day_of_week:\n",
    "            return True\n",
    "        else:\n",
    "            return False\n",
    "    return is_on_day_of_week"
   ]
  },
  {
   "cell_type": "code",
   "execution_count": 4,
   "metadata": {},
   "outputs": [],
   "source": [
    "# Transform data\n",
    "# Add new features that come from the session time\n",
    "sessions_df['start_datetime'] = pd.to_datetime(sessions_df['start_datetime'])\n",
    "sessions_df['end_datetime'] = pd.to_datetime(sessions_df['end_datetime'])\n",
    "\n",
    "sessions_df['length_seconds'] = sessions_df[['start_datetime', 'end_datetime']].apply(\n",
    "    length_seconds, axis=1\n",
    ")\n",
    "sessions_df['is_short'] = sessions_df[['length_seconds']].apply(\n",
    "    is_short, axis=1\n",
    ")\n",
    "sessions_df['is_medium'] = sessions_df[['length_seconds']].apply(\n",
    "    is_medium, axis=1\n",
    ")\n",
    "sessions_df['is_long'] = sessions_df[['length_seconds']].apply(\n",
    "    is_long, axis=1\n",
    ")\n",
    "\n",
    "sessions_df['at_night'] = sessions_df[['start_datetime', 'end_datetime']].apply(\n",
    "    at_night, axis=1\n",
    ")\n",
    "sessions_df['at_afternoon'] = sessions_df[['start_datetime', 'end_datetime']].apply(\n",
    "    at_afternoon, axis=1\n",
    ")\n",
    "sessions_df['at_morning'] = sessions_df[['start_datetime', 'end_datetime']].apply(\n",
    "    at_morning, axis=1\n",
    ")\n",
    "\n",
    "sessions_df['monday'] = sessions_df[['start_datetime']].apply(\n",
    "    is_on_day_of_week_partial(0), axis=1\n",
    ")\n",
    "sessions_df['tuesday'] = sessions_df[['start_datetime']].apply(\n",
    "    is_on_day_of_week_partial(1), axis=1\n",
    ")\n",
    "sessions_df['wednesday'] = sessions_df[['start_datetime']].apply(\n",
    "    is_on_day_of_week_partial(2), axis=1\n",
    ")\n",
    "sessions_df['thursday'] = sessions_df[['start_datetime']].apply(\n",
    "    is_on_day_of_week_partial(3), axis=1\n",
    ")\n",
    "sessions_df['friday'] = sessions_df[['start_datetime']].apply(\n",
    "    is_on_day_of_week_partial(4), axis=1\n",
    ")\n",
    "sessions_df['saturday'] = sessions_df[['start_datetime']].apply(\n",
    "    is_on_day_of_week_partial(5), axis=1\n",
    ")\n",
    "sessions_df['sunday'] = sessions_df[['start_datetime']].apply(\n",
    "    is_on_day_of_week_partial(6), axis=1\n",
    ")"
   ]
  },
  {
   "cell_type": "code",
   "execution_count": 75,
   "metadata": {},
   "outputs": [
    {
     "name": "stderr",
     "output_type": "stream",
     "text": [
      "/opt/conda/lib/python3.5/site-packages/ipykernel/__main__.py:9: SettingWithCopyWarning: \nA value is trying to be set on a copy of a slice from a DataFrame.\nTry using .loc[row_indexer,col_indexer] = value instead\n\nSee the caveats in the documentation: http://pandas.pydata.org/pandas-docs/stable/indexing.html#indexing-view-versus-copy\n"
     ]
    }
   ],
   "source": [
    "# Clean data\n",
    "# We care about Completed / Filled / Expired sessions\n",
    "clean_df = sessions_df[\n",
    "    (sessions_df.status == 'completed') |\n",
    "    (sessions_df.status == 'expired') |\n",
    "    (sessions_df.status == 'filled')\n",
    "]\n",
    "clean_df['filled'] = clean_df[['status']].apply(\n",
    "    lambda row: row['status'] in ['completed', 'filled'], axis=1\n",
    ")"
   ]
  },
  {
   "cell_type": "code",
   "execution_count": 76,
   "metadata": {},
   "outputs": [
    {
     "data": {
      "text/html": [
       "<div>\n",
       "<table border=\"1\" class=\"dataframe\">\n",
       "  <thead>\n",
       "    <tr style=\"text-align: right;\">\n",
       "      <th></th>\n",
       "      <th>id</th>\n",
       "      <th>practice_id</th>\n",
       "      <th>hourly_rate</th>\n",
       "      <th>original_hourly_rate</th>\n",
       "      <th>locum_id</th>\n",
       "      <th>length_seconds</th>\n",
       "    </tr>\n",
       "  </thead>\n",
       "  <tbody>\n",
       "    <tr>\n",
       "      <th>count</th>\n",
       "      <td>7.187300e+04</td>\n",
       "      <td>7.187300e+04</td>\n",
       "      <td>71873.000000</td>\n",
       "      <td>56544.000000</td>\n",
       "      <td>4.391500e+04</td>\n",
       "      <td>71873.000000</td>\n",
       "    </tr>\n",
       "    <tr>\n",
       "      <th>mean</th>\n",
       "      <td>3.686400e+08</td>\n",
       "      <td>2.139361e+06</td>\n",
       "      <td>81.944086</td>\n",
       "      <td>82.027766</td>\n",
       "      <td>1.522447e+07</td>\n",
       "      <td>17365.769379</td>\n",
       "    </tr>\n",
       "    <tr>\n",
       "      <th>std</th>\n",
       "      <td>1.033498e+08</td>\n",
       "      <td>1.279175e+06</td>\n",
       "      <td>7.199402</td>\n",
       "      <td>6.891379</td>\n",
       "      <td>5.001106e+07</td>\n",
       "      <td>8211.822889</td>\n",
       "    </tr>\n",
       "    <tr>\n",
       "      <th>min</th>\n",
       "      <td>4.016688e+07</td>\n",
       "      <td>3.011200e+04</td>\n",
       "      <td>60.000000</td>\n",
       "      <td>1.850000</td>\n",
       "      <td>2.011000e+04</td>\n",
       "      <td>7200.000000</td>\n",
       "    </tr>\n",
       "    <tr>\n",
       "      <th>25%</th>\n",
       "      <td>4.011212e+08</td>\n",
       "      <td>3.019170e+05</td>\n",
       "      <td>80.000000</td>\n",
       "      <td>80.000000</td>\n",
       "      <td>2.012139e+06</td>\n",
       "      <td>10800.000000</td>\n",
       "    </tr>\n",
       "    <tr>\n",
       "      <th>50%</th>\n",
       "      <td>4.011550e+08</td>\n",
       "      <td>3.011153e+06</td>\n",
       "      <td>80.000000</td>\n",
       "      <td>80.000000</td>\n",
       "      <td>2.013710e+06</td>\n",
       "      <td>14400.000000</td>\n",
       "    </tr>\n",
       "    <tr>\n",
       "      <th>75%</th>\n",
       "      <td>4.011850e+08</td>\n",
       "      <td>3.011767e+06</td>\n",
       "      <td>85.000000</td>\n",
       "      <td>85.000000</td>\n",
       "      <td>2.015509e+06</td>\n",
       "      <td>21600.000000</td>\n",
       "    </tr>\n",
       "    <tr>\n",
       "      <th>max</th>\n",
       "      <td>4.012203e+08</td>\n",
       "      <td>3.012808e+06</td>\n",
       "      <td>150.000000</td>\n",
       "      <td>150.000000</td>\n",
       "      <td>2.017111e+08</td>\n",
       "      <td>50400.000000</td>\n",
       "    </tr>\n",
       "  </tbody>\n",
       "</table>\n",
       "</div>"
      ],
      "text/plain": [
       "<div>\n",
       "<table border=\"1\" class=\"dataframe\">\n",
       "  <thead>\n",
       "    <tr style=\"text-align: right;\">\n",
       "      <th></th>\n",
       "      <th>id</th>\n",
       "      <th>practice_id</th>\n",
       "      <th>hourly_rate</th>\n",
       "      <th>original_hourly_rate</th>\n",
       "      <th>locum_id</th>\n",
       "      <th>length_seconds</th>\n",
       "    </tr>\n",
       "  </thead>\n",
       "  <tbody>\n",
       "    <tr>\n",
       "      <th>count</th>\n",
       "      <td>7.187300e+04</td>\n",
       "      <td>7.187300e+04</td>\n",
       "      <td>71873.000000</td>\n",
       "      <td>56544.000000</td>\n",
       "      <td>4.391500e+04</td>\n",
       "      <td>71873.000000</td>\n",
       "    </tr>\n",
       "    <tr>\n",
       "      <th>mean</th>\n",
       "      <td>3.686400e+08</td>\n",
       "      <td>2.139361e+06</td>\n",
       "      <td>81.944086</td>\n",
       "      <td>82.027766</td>\n",
       "      <td>1.522447e+07</td>\n",
       "      <td>17365.769379</td>\n",
       "    </tr>\n",
       "    <tr>\n",
       "      <th>std</th>\n",
       "      <td>1.033498e+08</td>\n",
       "      <td>1.279175e+06</td>\n",
       "      <td>7.199402</td>\n",
       "      <td>6.891379</td>\n",
       "      <td>5.001106e+07</td>\n",
       "      <td>8211.822889</td>\n",
       "    </tr>\n",
       "    <tr>\n",
       "      <th>min</th>\n",
       "      <td>4.016688e+07</td>\n",
       "      <td>3.011200e+04</td>\n",
       "      <td>60.000000</td>\n",
       "      <td>1.850000</td>\n",
       "      <td>2.011000e+04</td>\n",
       "      <td>7200.000000</td>\n",
       "    </tr>\n",
       "    <tr>\n",
       "      <th>25%</th>\n",
       "      <td>4.011212e+08</td>\n",
       "      <td>3.019170e+05</td>\n",
       "      <td>80.000000</td>\n",
       "      <td>80.000000</td>\n",
       "      <td>2.012139e+06</td>\n",
       "      <td>10800.000000</td>\n",
       "    </tr>\n",
       "    <tr>\n",
       "      <th>50%</th>\n",
       "      <td>4.011550e+08</td>\n",
       "      <td>3.011153e+06</td>\n",
       "      <td>80.000000</td>\n",
       "      <td>80.000000</td>\n",
       "      <td>2.013710e+06</td>\n",
       "      <td>14400.000000</td>\n",
       "    </tr>\n",
       "    <tr>\n",
       "      <th>75%</th>\n",
       "      <td>4.011850e+08</td>\n",
       "      <td>3.011767e+06</td>\n",
       "      <td>85.000000</td>\n",
       "      <td>85.000000</td>\n",
       "      <td>2.015509e+06</td>\n",
       "      <td>21600.000000</td>\n",
       "    </tr>\n",
       "    <tr>\n",
       "      <th>max</th>\n",
       "      <td>4.012203e+08</td>\n",
       "      <td>3.012808e+06</td>\n",
       "      <td>150.000000</td>\n",
       "      <td>150.000000</td>\n",
       "      <td>2.017111e+08</td>\n",
       "      <td>50400.000000</td>\n",
       "    </tr>\n",
       "  </tbody>\n",
       "</table>\n",
       "</div>"
      ]
     },
     "execution_count": 0,
     "metadata": {},
     "output_type": "execute_result"
    }
   ],
   "source": [
    "display(clean_df.describe())"
   ]
  },
  {
   "cell_type": "code",
   "execution_count": 78,
   "metadata": {},
   "outputs": [],
   "source": [
    "# merge ccg ids into the dataframe\n",
    "clean_df = pd.merge(clean_df, practices_df, left_on='practice_id', right_on='id')"
   ]
  },
  {
   "cell_type": "code",
   "execution_count": 79,
   "metadata": {},
   "outputs": [],
   "source": [
    "clean_df.loc[clean_df['locum_id'].isnull(), 'locum_id'] = 0"
   ]
  },
  {
   "cell_type": "code",
   "execution_count": 127,
   "metadata": {},
   "outputs": [],
   "source": [
    "from sklearn.cross_validation import train_test_split\n",
    "from sklearn.tree import DecisionTreeRegressor\n",
    "from sklearn.metrics import f1_score, accuracy_score\n",
    "\n",
    "import datetime\n",
    "\n",
    "def predict_and_score(regressor, fields_to_learn_on):\n",
    "    start = datetime.datetime.now()\n",
    "    X_train, X_test, y_train, y_test = train_test_split(\n",
    "        clean_df[fields_to_learn_on],\n",
    "        clean_df['filled'],\n",
    "        train_size=int(sessions_df.count()[0] * 0.25), \n",
    "        random_state=1\n",
    "    )\n",
    "    regressor.fit(X_train, y_train)\n",
    "    y_pred = regressor.predict(X_test)\n",
    "    y_pred_bool = [1 if y >= 0.5 else 0 for y in y_pred]\n",
    "    f1 = f1_score(y_test.values, y_pred_bool)\n",
    "    accuracy_pct = accuracy_score(y_test.values, y_pred_bool)\n",
    "    print(\"time to run: {}\".format((datetime.datetime.now() - start).total_seconds()))\n",
    "    return f1, accuracy_pct\n",
    "\n",
    "# test/train split, then see the performance for different predictors\n",
    "\n",
    "# train on all the data, then make a graph using the predictor:\n",
    "# * a line each combination of bools\n",
    "# * y axis is fill rate likelihood\n",
    "# * x axis is hourly rate"
   ]
  },
  {
   "cell_type": "code",
   "execution_count": 115,
   "metadata": {},
   "outputs": [
    {
     "name": "stdout",
     "output_type": "stream",
     "text": [
      "decision tree on all fields: f1: 0.9997534719368888 accuracy: 0.9996978775900702\n"
     ]
    }
   ],
   "source": [
    "day_of_week_fields = [\n",
    "    'monday', 'tuesday', 'wednesday', 'thursday', 'friday', 'saturday', 'sunday',\n",
    "]\n",
    "time_of_day_fields = [\n",
    "    'at_night', 'at_afternoon', 'at_morning',\n",
    "]\n",
    "length_fields = [\n",
    "    'is_short', 'is_medium', 'is_long',\n",
    "]\n",
    "time_fields = day_of_week_fields + time_of_day_fields + length_fields \n",
    "all_fields_to_learn_on = [\n",
    "    'hourly_rate',\n",
    "    'ccg_id', 'practice_id', 'locum_id'\n",
    "] + time_fields\n",
    "\n",
    "results = []\n",
    "\n",
    "result = \"decision tree on all fields: f1: {} accuracy: {}\".format(\n",
    "    *predict_and_score(\n",
    "        DecisionTreeRegressor(random_state=1), all_fields_to_learn_on\n",
    "))\n",
    "print(result)\n",
    "results.append(result)"
   ]
  },
  {
   "cell_type": "code",
   "execution_count": 117,
   "metadata": {},
   "outputs": [
    {
     "name": "stdout",
     "output_type": "stream",
     "text": [
      "decision tree on non-locum fields: f1: 0.8400190642624513 accuracy: 0.7971751554671568\n"
     ]
    }
   ],
   "source": [
    "result = \"decision tree on non-locum fields: f1: {} accuracy: {}\".format(\n",
    "    *predict_and_score(\n",
    "        DecisionTreeRegressor(random_state=1), \n",
    "        ['hourly_rate', 'ccg_id', 'practice_id'] + time_fields\n",
    "))\n",
    "print(result)\n",
    "results.append(result)"
   ]
  },
  {
   "cell_type": "code",
   "execution_count": 118,
   "metadata": {},
   "outputs": [
    {
     "name": "stdout",
     "output_type": "stream",
     "text": [
      "decision tree on non-locum/practice id fields: f1: 0.8330298223971491 accuracy: 0.7853168508774139\n"
     ]
    }
   ],
   "source": [
    "result = \"decision tree on non-locum/practice id fields: f1: {} accuracy: {}\".format(\n",
    "    *predict_and_score(\n",
    "        DecisionTreeRegressor(random_state=1), \n",
    "        ['hourly_rate', 'ccg_id'] + time_fields\n",
    "))\n",
    "print(result)\n",
    "results.append(result)"
   ]
  },
  {
   "cell_type": "code",
   "execution_count": 119,
   "metadata": {},
   "outputs": [
    {
     "name": "stdout",
     "output_type": "stream",
     "text": [
      "decision tree on non-locum/practice/ccg fields: f1: 0.8023506881207637 accuracy: 0.7349631158891211\n"
     ]
    }
   ],
   "source": [
    "result = \"decision tree on non-locum/practice/ccg fields: f1: {} accuracy: {}\".format(\n",
    "    *predict_and_score(\n",
    "        DecisionTreeRegressor(random_state=1), \n",
    "        ['hourly_rate',] + time_fields\n",
    "))\n",
    "print(result)\n",
    "results.append(result)"
   ]
  },
  {
   "cell_type": "code",
   "execution_count": 120,
   "metadata": {},
   "outputs": [
    {
     "name": "stdout",
     "output_type": "stream",
     "text": [
      "decision tree on non-locum/hourly rate fields: f1: 0.8411863237757414 accuracy: 0.7970996248646743\n"
     ]
    }
   ],
   "source": [
    "result = \"decision tree on non-locum/hourly rate fields: f1: {} accuracy: {}\".format(\n",
    "    *predict_and_score(\n",
    "        DecisionTreeRegressor(random_state=1), \n",
    "        ['practice_id', 'ccg_id'] + time_fields\n",
    "))\n",
    "print(result)\n",
    "results.append(result)"
   ]
  },
  {
   "cell_type": "code",
   "execution_count": 121,
   "metadata": {},
   "outputs": [
    {
     "name": "stdout",
     "output_type": "stream",
     "text": [
      "decision tree on hourly rate + ccg + practice id: f1: 0.8531287911399835 accuracy: 0.8110224325889372\n"
     ]
    }
   ],
   "source": [
    "result = \"decision tree on hourly rate + ccg + practice id: f1: {} accuracy: {}\".format(\n",
    "    *predict_and_score(\n",
    "        DecisionTreeRegressor(random_state=1), \n",
    "        ['hourly_rate', 'ccg_id', 'practice_id']\n",
    "))\n",
    "print(result)\n",
    "results.append(result)"
   ]
  },
  {
   "cell_type": "code",
   "execution_count": 122,
   "metadata": {},
   "outputs": [
    {
     "name": "stdout",
     "output_type": "stream",
     "text": [
      "decision tree on hourly rate + ccg_id fields: f1: 0.8273270642291144 accuracy: 0.7767063621944158\n"
     ]
    }
   ],
   "source": [
    "result = \"decision tree on hourly rate + ccg_id fields: f1: {} accuracy: {}\".format(\n",
    "    *predict_and_score(\n",
    "        DecisionTreeRegressor(random_state=1), \n",
    "        ['hourly_rate', 'ccg_id']\n",
    "))\n",
    "print(result)\n",
    "results.append(result)"
   ]
  },
  {
   "cell_type": "code",
   "execution_count": 123,
   "metadata": {},
   "outputs": [
    {
     "name": "stdout",
     "output_type": "stream",
     "text": [
      "decision tree on all fields: f1: 0.9997534719368888 accuracy: 0.9996978775900702\ndecision tree on non-locum fields: f1: 0.8400190642624513 accuracy: 0.7971751554671568\ndecision tree on non-locum fields: f1: 0.8400190642624513 accuracy: 0.7971751554671568\ndecision tree on non-locum/practice id fields: f1: 0.8330298223971491 accuracy: 0.7853168508774139\ndecision tree on non-locum/practice/ccg fields: f1: 0.8023506881207637 accuracy: 0.7349631158891211\ndecision tree on non-locum/hourly rate fields: f1: 0.8411863237757414 accuracy: 0.7970996248646743\ndecision tree on hourly rate + ccg + practice id: f1: 0.8531287911399835 accuracy: 0.8110224325889372\ndecision tree on hourly rate + ccg_id fields: f1: 0.8273270642291144 accuracy: 0.7767063621944158\n"
     ]
    }
   ],
   "source": [
    "for result in results:\n",
    "    print(result)"
   ]
  },
  {
   "cell_type": "code",
   "execution_count": 128,
   "metadata": {},
   "outputs": [
    {
     "name": "stdout",
     "output_type": "stream",
     "text": [
      "time to run: 142.66006\nSVR on hourly rate + ccg_id fields: f1: 0.856995578817978 accuracy: 0.8183992547647222\n"
     ]
    }
   ],
   "source": [
    "from sklearn.svm import SVR\n",
    "result = \"SVR on time, hourly rate + ccg_id + practice_id fields: f1: {} accuracy: {}\".format(\n",
    "    *predict_and_score(\n",
    "        SVR(), \n",
    "        time_fields + ['hourly_rate', 'ccg_id', 'practice_id']\n",
    "))\n",
    "print(result)\n",
    "results.append(result)"
   ]
  },
  {
   "cell_type": "code",
   "execution_count": 130,
   "metadata": {},
   "outputs": [
    {
     "name": "stdout",
     "output_type": "stream",
     "text": [
      "time to run: 130.720498\nSVR on time, practice_id + ccg_id fields: f1: 0.8534508308470491 accuracy: 0.8132631737959163\n"
     ]
    }
   ],
   "source": [
    "from sklearn.svm import SVR\n",
    "result = \"SVR on time, practice_id + ccg_id fields: f1: {} accuracy: {}\".format(\n",
    "    *predict_and_score(\n",
    "        SVR(), \n",
    "        time_fields + ['ccg_id', 'practice_id']\n",
    "))\n",
    "print(result)\n",
    "results.append(result)"
   ]
  },
  {
   "cell_type": "code",
   "execution_count": 131,
   "metadata": {},
   "outputs": [
    {
     "data": {
      "text/plain": [
       "0.003544747970928963"
      ]
     },
     "execution_count": 131,
     "metadata": {},
     "output_type": "execute_result"
    }
   ],
   "source": [
    "0.856995578817978 - 0.8534508308470491\n",
    "# the predictive power of adding hourly rate\n",
    "# hourly rate could be explained in practice_id for its predictive power"
   ]
  },
  {
   "cell_type": "code",
   "execution_count": null,
   "metadata": {},
   "outputs": [],
   "source": [
    ""
   ]
  }
 ],
 "metadata": {},
 "nbformat": 4,
 "nbformat_minor": 0
}