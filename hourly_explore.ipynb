{
 "cells": [
  {
   "cell_type": "code",
   "execution_count": 1,
   "metadata": {},
   "outputs": [],
   "source": [
    "import pandas as pd\n",
    "import numpy as np\n",
    "from IPython.display import display\n",
    "from os import listdir\n",
    "sessions_df = pd.read_csv(\"data_toolkit/data/sessions.csv\")\n",
    "practices_df = pd.read_csv(\"data_toolkit/data/practices.csv\")\n",
    "ccgs_df = pd.read_csv(\"data_toolkit/data/ccgs.csv\")"
   ]
  },
  {
   "cell_type": "code",
   "execution_count": 2,
   "metadata": {},
   "outputs": [
    {
     "data": {
      "text/plain": [
       "id                      128618\npractice_id             128618\nposted_datetime         128618\nstart_datetime          128618\nend_datetime            128618\nhourly_rate             128618\noriginal_hourly_rate     87316\nstatus                  128618\nlocum_id                 47732\ndtype: int64"
      ]
     },
     "execution_count": 2,
     "metadata": {},
     "output_type": "execute_result"
    }
   ],
   "source": [
    "sessions_df.count()"
   ]
  },
  {
   "cell_type": "code",
   "execution_count": 3,
   "metadata": {},
   "outputs": [
    {
     "name": "stdout",
     "output_type": "stream",
     "text": [
      "['completed' 'withdrawn' 'expired' 'system_invalidated' 'posted' 'filled']\n"
     ]
    }
   ],
   "source": [
    "print(sessions_df.status.unique())"
   ]
  },
  {
   "cell_type": "code",
   "execution_count": 4,
   "metadata": {},
   "outputs": [
    {
     "name": "stdout",
     "output_type": "stream",
     "text": [
      "Completed: 40451\nFilled: 3444\nExpired: 27978\n"
     ]
    }
   ],
   "source": [
    "print(\"Completed: {}\".format(sessions_df[sessions_df.status == 'completed'].count()[0]))\n",
    "print(\"Filled: {}\".format(sessions_df[sessions_df.status == 'filled'].count()[0]))\n",
    "print(\"Expired: {}\".format(sessions_df[sessions_df.status == 'expired'].count()[0]))"
   ]
  },
  {
   "cell_type": "code",
   "execution_count": 7,
   "metadata": {},
   "outputs": [
    {
     "name": "stderr",
     "output_type": "stream",
     "text": [
      "/opt/conda/lib/python3.5/site-packages/ipykernel/__main__.py:9: SettingWithCopyWarning: \nA value is trying to be set on a copy of a slice from a DataFrame.\nTry using .loc[row_indexer,col_indexer] = value instead\n\nSee the caveats in the documentation: http://pandas.pydata.org/pandas-docs/stable/indexing.html#indexing-view-versus-copy\n"
     ]
    }
   ],
   "source": [
    "# Clean data\n",
    "# We care about Completed / Filled / Expired sessions\n",
    "clean_df = sessions_df[\n",
    "    (sessions_df.status == 'completed') |\n",
    "    (sessions_df.status == 'expired') |\n",
    "    (sessions_df.status == 'filled')\n",
    "]\n",
    "clean_df['filled'] = clean_df[['status']].apply(\n",
    "    lambda row: row['status'] in ['completed', 'expired'], axis=1\n",
    ")"
   ]
  },
  {
   "cell_type": "code",
   "execution_count": 8,
   "metadata": {},
   "outputs": [
    {
     "data": {
      "text/html": [
       "<div>\n",
       "<table border=\"1\" class=\"dataframe\">\n",
       "  <thead>\n",
       "    <tr style=\"text-align: right;\">\n",
       "      <th></th>\n",
       "      <th>id</th>\n",
       "      <th>practice_id</th>\n",
       "      <th>hourly_rate</th>\n",
       "      <th>original_hourly_rate</th>\n",
       "      <th>locum_id</th>\n",
       "    </tr>\n",
       "  </thead>\n",
       "  <tbody>\n",
       "    <tr>\n",
       "      <th>count</th>\n",
       "      <td>7.187300e+04</td>\n",
       "      <td>7.187300e+04</td>\n",
       "      <td>71873.000000</td>\n",
       "      <td>56544.000000</td>\n",
       "      <td>4.391500e+04</td>\n",
       "    </tr>\n",
       "    <tr>\n",
       "      <th>mean</th>\n",
       "      <td>3.686400e+08</td>\n",
       "      <td>2.139361e+06</td>\n",
       "      <td>81.944086</td>\n",
       "      <td>82.027766</td>\n",
       "      <td>1.522447e+07</td>\n",
       "    </tr>\n",
       "    <tr>\n",
       "      <th>std</th>\n",
       "      <td>1.033498e+08</td>\n",
       "      <td>1.279175e+06</td>\n",
       "      <td>7.199402</td>\n",
       "      <td>6.891379</td>\n",
       "      <td>5.001106e+07</td>\n",
       "    </tr>\n",
       "    <tr>\n",
       "      <th>min</th>\n",
       "      <td>4.016688e+07</td>\n",
       "      <td>3.011200e+04</td>\n",
       "      <td>60.000000</td>\n",
       "      <td>1.850000</td>\n",
       "      <td>2.011000e+04</td>\n",
       "    </tr>\n",
       "    <tr>\n",
       "      <th>25%</th>\n",
       "      <td>4.011212e+08</td>\n",
       "      <td>3.019170e+05</td>\n",
       "      <td>80.000000</td>\n",
       "      <td>80.000000</td>\n",
       "      <td>2.012139e+06</td>\n",
       "    </tr>\n",
       "    <tr>\n",
       "      <th>50%</th>\n",
       "      <td>4.011550e+08</td>\n",
       "      <td>3.011153e+06</td>\n",
       "      <td>80.000000</td>\n",
       "      <td>80.000000</td>\n",
       "      <td>2.013710e+06</td>\n",
       "    </tr>\n",
       "    <tr>\n",
       "      <th>75%</th>\n",
       "      <td>4.011850e+08</td>\n",
       "      <td>3.011767e+06</td>\n",
       "      <td>85.000000</td>\n",
       "      <td>85.000000</td>\n",
       "      <td>2.015509e+06</td>\n",
       "    </tr>\n",
       "    <tr>\n",
       "      <th>max</th>\n",
       "      <td>4.012203e+08</td>\n",
       "      <td>3.012808e+06</td>\n",
       "      <td>150.000000</td>\n",
       "      <td>150.000000</td>\n",
       "      <td>2.017111e+08</td>\n",
       "    </tr>\n",
       "  </tbody>\n",
       "</table>\n",
       "</div>"
      ],
      "text/plain": [
       "<div>\n",
       "<table border=\"1\" class=\"dataframe\">\n",
       "  <thead>\n",
       "    <tr style=\"text-align: right;\">\n",
       "      <th></th>\n",
       "      <th>id</th>\n",
       "      <th>practice_id</th>\n",
       "      <th>hourly_rate</th>\n",
       "      <th>original_hourly_rate</th>\n",
       "      <th>locum_id</th>\n",
       "    </tr>\n",
       "  </thead>\n",
       "  <tbody>\n",
       "    <tr>\n",
       "      <th>count</th>\n",
       "      <td>7.187300e+04</td>\n",
       "      <td>7.187300e+04</td>\n",
       "      <td>71873.000000</td>\n",
       "      <td>56544.000000</td>\n",
       "      <td>4.391500e+04</td>\n",
       "    </tr>\n",
       "    <tr>\n",
       "      <th>mean</th>\n",
       "      <td>3.686400e+08</td>\n",
       "      <td>2.139361e+06</td>\n",
       "      <td>81.944086</td>\n",
       "      <td>82.027766</td>\n",
       "      <td>1.522447e+07</td>\n",
       "    </tr>\n",
       "    <tr>\n",
       "      <th>std</th>\n",
       "      <td>1.033498e+08</td>\n",
       "      <td>1.279175e+06</td>\n",
       "      <td>7.199402</td>\n",
       "      <td>6.891379</td>\n",
       "      <td>5.001106e+07</td>\n",
       "    </tr>\n",
       "    <tr>\n",
       "      <th>min</th>\n",
       "      <td>4.016688e+07</td>\n",
       "      <td>3.011200e+04</td>\n",
       "      <td>60.000000</td>\n",
       "      <td>1.850000</td>\n",
       "      <td>2.011000e+04</td>\n",
       "    </tr>\n",
       "    <tr>\n",
       "      <th>25%</th>\n",
       "      <td>4.011212e+08</td>\n",
       "      <td>3.019170e+05</td>\n",
       "      <td>80.000000</td>\n",
       "      <td>80.000000</td>\n",
       "      <td>2.012139e+06</td>\n",
       "    </tr>\n",
       "    <tr>\n",
       "      <th>50%</th>\n",
       "      <td>4.011550e+08</td>\n",
       "      <td>3.011153e+06</td>\n",
       "      <td>80.000000</td>\n",
       "      <td>80.000000</td>\n",
       "      <td>2.013710e+06</td>\n",
       "    </tr>\n",
       "    <tr>\n",
       "      <th>75%</th>\n",
       "      <td>4.011850e+08</td>\n",
       "      <td>3.011767e+06</td>\n",
       "      <td>85.000000</td>\n",
       "      <td>85.000000</td>\n",
       "      <td>2.015509e+06</td>\n",
       "    </tr>\n",
       "    <tr>\n",
       "      <th>max</th>\n",
       "      <td>4.012203e+08</td>\n",
       "      <td>3.012808e+06</td>\n",
       "      <td>150.000000</td>\n",
       "      <td>150.000000</td>\n",
       "      <td>2.017111e+08</td>\n",
       "    </tr>\n",
       "  </tbody>\n",
       "</table>\n",
       "</div>"
      ]
     },
     "execution_count": 0,
     "metadata": {},
     "output_type": "execute_result"
    }
   ],
   "source": [
    "display(clean_df.describe())"
   ]
  },
  {
   "cell_type": "code",
   "execution_count": 42,
   "metadata": {},
   "outputs": [],
   "source": [
    "rate_range = range(70, 130)\n",
    "unfilled_df = clean_df[clean_df['status'] == 'expired']\n",
    "unfilled = {}\n",
    "for i in rate_range:\n",
    "    unfilled[i] = unfilled_df[unfilled_df['hourly_rate'] == i].count()[0]\n",
    "filled_df = clean_df[clean_df['status'] != 'expired']\n",
    "filled = {}\n",
    "for i in rate_range:\n",
    "    filled[i] = filled_df[filled_df['hourly_rate'] == i].count()[0]"
   ]
  },
  {
   "cell_type": "code",
   "execution_count": 55,
   "metadata": {},
   "outputs": [
    {
     "data": {
      "image/png": "[encoded data removed]",
      "text/plain": [
       "<matplotlib.figure.Figure at 0x7f8f7edf3710>"
      ]
     },
     "metadata": {},
     "output_type": "display_data"
    }
   ],
   "source": [
    "import matplotlib.pyplot as plt\n",
    "\n",
    "xs = list(rate_range)\n",
    "\n",
    "ax = plt.subplot(111)\n",
    "filled_bar = ax.bar([x - 2 for x in xs], filled.values(), width=0.2, color='g', align='center')\n",
    "unfilled_bar = ax.bar([x + 0.2 - 2 for x in xs], unfilled.values(), width=0.2, color='r', align='center')\n",
    "ax.autoscale(tight=True)\n",
    "fig = ax.figure\n",
    "fig.set_size_inches((20, 10), forward=True)\n",
    "ax.set_ylabel(\"Number of sessions\")\n",
    "ax.set_xlabel(\"Hourly rate\")\n",
    "ax.legend((filled_bar, unfilled_bar), (\"Filled sessions\", \"Unfilled sessions\"))\n",
    "ax.set_xticks(xs)\n",
    "plt.show()"
   ]
  },
  {
   "cell_type": "code",
   "execution_count": 71,
   "metadata": {},
   "outputs": [
    {
     "data": {
      "image/png": "[encoded data removed]",
      "text/plain": [
       "<matplotlib.figure.Figure at 0x7f8f7b1070b8>"
      ]
     },
     "metadata": {},
     "output_type": "display_data"
    }
   ],
   "source": [
    "rate_range = range(69, 130)\n",
    "percentage = {}\n",
    "for i in rate_range:\n",
    "    unfilled_count = unfilled_df[unfilled_df['hourly_rate'] == i].count()[0]\n",
    "    filled_count = filled_df[filled_df['hourly_rate'] == i].count()[0]\n",
    "    if unfilled_count or filled_count:\n",
    "        percentage[i] = filled_count / (unfilled_count + filled_count)\n",
    "    else:\n",
    "        percentage[i] = 0\n",
    "        \n",
    "percentage_with_significance = {}\n",
    "for i in rate_range:\n",
    "    unfilled_count = unfilled_df[unfilled_df['hourly_rate'] == i].count()[0]\n",
    "    filled_count = filled_df[filled_df['hourly_rate'] == i].count()[0]\n",
    "    if unfilled_count + filled_count > 100:\n",
    "        percentage_with_significance[i] = filled_count / (unfilled_count + filled_count)\n",
    "    else:\n",
    "        percentage_with_significance[i] = 0\n",
    "        \n",
    "percentage_with_great_significance = {}\n",
    "for i in rate_range:\n",
    "    unfilled_count = unfilled_df[unfilled_df['hourly_rate'] == i].count()[0]\n",
    "    filled_count = filled_df[filled_df['hourly_rate'] == i].count()[0]\n",
    "    if unfilled_count + filled_count > 800:\n",
    "        percentage_with_great_significance[i] = filled_count / (unfilled_count + filled_count)\n",
    "    else:\n",
    "        percentage_with_great_significance[i] = 0\n",
    "\n",
    "xs = list(rate_range)\n",
    "\n",
    "ax = plt.subplot(111)\n",
    "percentage_bar = ax.bar([x - 2 for x in xs], percentage.values(), width=0.75, color='lightgrey', align='center')\n",
    "percentage_with_significance_bar = ax.bar([x - 2 for x in xs], percentage_with_significance.values(), width=0.75, color='lightblue', align='center')\n",
    "percentage_with_great_significance_bar = ax.bar([x - 2 for x in xs], percentage_with_great_significance.values(), width=0.75, color='darkblue', align='center')\n",
    "ax.autoscale(tight=True)\n",
    "fig = ax.figure\n",
    "fig.set_size_inches((15, 10), forward=True)\n",
    "ax.set_ylabel(\"Fill %\")\n",
    "ax.set_xlabel(\"Hourly rate\")\n",
    "\n",
    "ax.legend((percentage_bar, percentage_with_significance_bar, percentage_with_great_significance_bar), \n",
    "          (\"Fewer than 100 sessions at this hourly rate\", \"Between 100-800 sessions with this hourly rate\", \"800+ sessions with this hourly rate\"))\n",
    "\n",
    "plt.show()"
   ]
  },
  {
   "cell_type": "code",
   "execution_count": 57,
   "metadata": {},
   "outputs": [
    {
     "name": "stdout",
     "output_type": "stream",
     "text": [
      "846\n"
     ]
    }
   ],
   "source": [
    "print(filled[95])"
   ]
  }
 ],
 "metadata": {},
 "nbformat": 4,
 "nbformat_minor": 0
}